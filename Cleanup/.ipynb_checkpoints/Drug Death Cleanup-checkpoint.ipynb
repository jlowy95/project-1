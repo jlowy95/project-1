{
 "cells": [
  {
   "cell_type": "code",
   "execution_count": 109,
   "metadata": {},
   "outputs": [],
   "source": [
    "import pandas as pd\n",
    "import matplotlib.pyplot as plt\n",
    "from scipy.stats import linregress\n",
    "import numpy as np"
   ]
  },
  {
   "cell_type": "code",
   "execution_count": 110,
   "metadata": {},
   "outputs": [],
   "source": [
    "# Import drug death csv into a dataframe\n",
    "drug_data = pd.read_csv(\"../Resources/Accidental_Drug_Related_Deaths_2012-2018.csv\")"
   ]
  },
  {
   "cell_type": "code",
   "execution_count": 112,
   "metadata": {},
   "outputs": [],
   "source": [
    "# Remove records missing data from Age, Sex, Race, Residence City, and Death City\n",
    "drug_data = drug_data.dropna(subset=[\"Age\",\"Sex\",\"Race\",\"ResidenceCity\",\"DeathCity\"])"
   ]
  },
  {
   "cell_type": "code",
   "execution_count": 113,
   "metadata": {},
   "outputs": [],
   "source": [
    "# Remove unplanned columns: Coordinate Columns\n",
    "drug_data = drug_data.drop(columns=[\"DeathCityGeo\",\"ResidenceCityGeo\",\"InjuryCityGeo\"])"
   ]
  },
  {
   "cell_type": "code",
   "execution_count": 114,
   "metadata": {},
   "outputs": [],
   "source": [
    "# Rename columns as needed\n",
    "drug_data = drug_data.rename(columns={\"FentanylAnalogue\":\"Fentanyl Analogue\",\n",
    "                                      \"Amphet\":\"Amphetamine\",\n",
    "                                      \"Tramad\":\"Tramadol\",\n",
    "                                      \"Morphine_NotHeroin\":\"Morphine Not Heroin\",\n",
    "                                      \"AnyOpioid\":\"Any Opioid\"})"
   ]
  },
  {
   "cell_type": "code",
   "execution_count": 115,
   "metadata": {},
   "outputs": [],
   "source": [
    "# Export to .csv\n",
    "drug_data.to_csv(\"../Resources/drug_death_data_clean.csv\")"
   ]
  }
 ],
 "metadata": {
  "kernelspec": {
   "display_name": "Python 3",
   "language": "python",
   "name": "python3"
  },
  "language_info": {
   "codemirror_mode": {
    "name": "ipython",
    "version": 3
   },
   "file_extension": ".py",
   "mimetype": "text/x-python",
   "name": "python",
   "nbconvert_exporter": "python",
   "pygments_lexer": "ipython3",
   "version": "3.6.5"
  }
 },
 "nbformat": 4,
 "nbformat_minor": 2
}
